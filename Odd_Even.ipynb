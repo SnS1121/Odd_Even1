{
 "cells": [
  {
   "cell_type": "markdown",
   "metadata": {},
   "source": [
    "num = int(input('Hello! Pick a number.'))\n",
    "if (num % 2 == 0) :\n",
    "    print('That is an EVEN number!')\n",
    "else :\n",
    "    print('That is an ODD number!')"
   ]
  },
  {
   "cell_type": "markdown",
   "metadata": {},
   "source": []
  },
  {
   "cell_type": "code",
   "execution_count": null,
   "metadata": {},
   "outputs": [],
   "source": []
  },
  {
   "cell_type": "code",
   "execution_count": null,
   "metadata": {},
   "outputs": [],
   "source": [
    "num = int(input('Hello! Pick a number'))\n",
    "if (num % 2 == 0):\n",
    "    print('That is an EVEN number!')\n",
    "else :\n",
    "    print('That is an ODD number!')"
   ]
  }
 ],
 "metadata": {
  "kernelspec": {
   "display_name": "Python 3",
   "language": "python",
   "name": "python3"
  },
  "language_info": {
   "codemirror_mode": {
    "name": "ipython",
    "version": 3
   },
   "file_extension": ".py",
   "mimetype": "text/x-python",
   "name": "python",
   "nbconvert_exporter": "python",
   "pygments_lexer": "ipython3",
   "version": "3.7.6"
  }
 },
 "nbformat": 4,
 "nbformat_minor": 4
}
